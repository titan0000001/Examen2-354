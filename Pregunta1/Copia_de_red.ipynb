{
  "nbformat": 4,
  "nbformat_minor": 0,
  "metadata": {
    "colab": {
      "provenance": []
    },
    "kernelspec": {
      "name": "python3",
      "display_name": "Python 3"
    },
    "language_info": {
      "name": "python"
    }
  },
  "cells": [
    {
      "cell_type": "code",
      "execution_count": null,
      "metadata": {
        "colab": {
          "base_uri": "https://localhost:8080/"
        },
        "id": "6h2sDcpYXCLp",
        "outputId": "bc5c7bce-35de-455d-cbc3-91cebee50919"
      },
      "outputs": [
        {
          "output_type": "stream",
          "name": "stdout",
          "text": [
            "0.9990889488055994\n"
          ]
        }
      ],
      "source": [
        "import numpy as np\n",
        "\n",
        "def sigmoide(x):\n",
        "  return 1 / (1 + np.exp(-x))\n",
        "\n",
        "class Neurona:\n",
        "  def __init__(self, pesos, bias):\n",
        "    self.pesos = pesos\n",
        "    self.bias = bias\n",
        "\n",
        "  def retroalimentacion(self, inputs):\n",
        "    total = np.dot(self.pesos, inputs) + self.bias\n",
        "    return sigmoide(total)\n",
        "\n",
        "pesos = np.array([0, 1])\n",
        "bias = 5\n",
        "n = Neurona(pesos, bias)\n",
        "\n",
        "x = np.array([1, 2])\n",
        "print(n.retroalimentacion(x))"
      ]
    },
    {
      "cell_type": "code",
      "source": [
        "import numpy as np\n",
        "\n",
        "class redNeuronaal:\n",
        "\n",
        "  def __init__(self):\n",
        "    pesos = np.array([0, 1])\n",
        "    bias = 0\n",
        "\n",
        "    self.neurona1 = Neurona(pesos, bias)\n",
        "    self.neurona2 = Neurona(pesos, bias)\n",
        "    self.neurona3 = Neurona(pesos, bias)\n",
        "\n",
        "  def retroalimentacion(self, x):\n",
        "    salida_neurona1 = self.neurona1.retroalimentacion(x)\n",
        "    salida_neurona2 = self.neurona2.retroalimentacion(x)\n",
        "\n",
        "    salida_neurona3 = self.neurona3.retroalimentacion(np.array([salida_neurona1, salida_neurona2]))\n",
        "    return salida_neurona3\n",
        "\n",
        "network = redNeuronaal()\n",
        "x = np.array([1, 2])\n",
        "print(network.retroalimentacion(x))"
      ],
      "metadata": {
        "colab": {
          "base_uri": "https://localhost:8080/"
        },
        "id": "TaHTpdfUZH0R",
        "outputId": "7e7cba1b-8ca0-411c-f17f-749e7f49f452"
      },
      "execution_count": null,
      "outputs": [
        {
          "output_type": "stream",
          "name": "stdout",
          "text": [
            "0.7069873680001046\n"
          ]
        }
      ]
    },
    {
      "cell_type": "code",
      "source": [
        "#Errores perdida\n",
        "def mse_perdida(y_true, y_pred):\n",
        "  return ((y_true - y_pred) ** 2).mean()\n",
        "\n",
        "y_true = np.array([1, 0, 0, 1])\n",
        "y_pred = np.array([1, 0, 1, 0])\n",
        "print(mse_perdida(y_true, y_pred)) "
      ],
      "metadata": {
        "colab": {
          "base_uri": "https://localhost:8080/"
        },
        "id": "r8xBbqlZ2P9-",
        "outputId": "0f5ad479-4e3f-43da-c74e-b6cbf850ccba"
      },
      "execution_count": null,
      "outputs": [
        {
          "output_type": "stream",
          "name": "stdout",
          "text": [
            "0.5\n"
          ]
        }
      ]
    },
    {
      "cell_type": "code",
      "source": [
        "# ---------\n",
        "# Modificar\n",
        "# ---------\n",
        "import numpy as np\n",
        "\n",
        "def sigmoid(x):\n",
        "  return 1 / (1 + np.exp(-x))\n",
        "\n",
        "def deriv_sigmoid(x):\n",
        "  fx = sigmoid(x)\n",
        "  return fx * (1 - fx)\n",
        "\n",
        "def mse_perdida(y_true, y_pred):\n",
        "  return ((y_true - y_pred) ** 2).mean()\n",
        "\n",
        "class redNeuronal:\n",
        "\n",
        "  def __init__(self):\n",
        "    # Pesos\n",
        "    self.p1 = np.random.normal()\n",
        "    self.p2 = np.random.normal()\n",
        "    self.p3 = np.random.normal()\n",
        "    self.p4 = np.random.normal()\n",
        "    self.p5 = np.random.normal()\n",
        "    self.p6 = np.random.normal()\n",
        "    # Bias\n",
        "    self.b1 = np.random.normal()\n",
        "    self.b2 = np.random.normal()\n",
        "    self.b3 = np.random.normal()\n",
        "\n",
        "  def retroalimentacion(self, x):\n",
        "    neurona1 = sigmoid(self.p1 * x[0] + self.p2 * x[1] + self.b1)\n",
        "    #neurona1 = np.dot(self.p1, x) + self.b1\n",
        "    neurona2 = sigmoid(self.p2 * x[0] + self.p4 * x[1] + self.b2)\n",
        "    #neurona3 = sigmoid(self.p5 * neurona1 + self.p6 * neurona2 + self.b3)\n",
        "    return neurona2\n",
        "   \n",
        "\n",
        "  def train(self, data, y_trues):\n",
        "    tasa_aprendizaje = 0.1\n",
        "    epocas = 1000\n",
        "    for epoca in range(epocas):\t\n",
        "      for x, y_true in zip(data, y_trues):\n",
        "        sum_neurona1 = self.p1 * x[0] + self.p2 * x[1] + self.b1\n",
        "        neurona1 = sigmoid(sum_neurona1)\n",
        "        sum_neurona2 = self.p3 * x[0] + self.p4 * x[1] + self.b2\n",
        "        neurona2 = sigmoid(sum_neurona2)\n",
        "        sum_neurona3 = self.p5 * neurona1 + self.p6 * neurona2 + self.b3\n",
        "        neurona3 = sigmoid(sum_neurona3)\n",
        "        y_pred = neurona3\n",
        "        # derivada parcial\n",
        "        d_L_d_ypred = -2 * (y_true - y_pred)\n",
        "        # Neurona3\n",
        "        d_ypred_d_p5 = neurona1 * deriv_sigmoid(sum_neurona1)\n",
        "        d_ypred_d_p6 = neurona2 * deriv_sigmoid(sum_neurona1)\n",
        "        d_ypred_d_b3 = deriv_sigmoid(sum_neurona3)\n",
        "        d_ypred_d_neurona1 = self.p5 * deriv_sigmoid(sum_neurona3)\n",
        "        d_ypred_d_neurona2 = self.p6 * deriv_sigmoid(sum_neurona3)\n",
        "        # Neurona1\n",
        "        d_neurona1_d_p1 = x[0] * deriv_sigmoid(sum_neurona1)\n",
        "        d_neurona1_d_p2 = x[1] * deriv_sigmoid(sum_neurona1)\n",
        "        d_neurona1_d_b1 = deriv_sigmoid(sum_neurona1)\n",
        "        # Neurona2\n",
        "        d_neurona2_d_p3 = x[0] * deriv_sigmoid(sum_neurona2)\n",
        "        d_neurona2_d_p4 = x[1] * deriv_sigmoid(sum_neurona2)\n",
        "        d_neurona2_d_b2 = deriv_sigmoid(sum_neurona2)\n",
        "        # Actualizar\n",
        "        # Neurona1\n",
        "        self.p1 -= tasa_aprendizaje * d_L_d_ypred * d_ypred_d_neurona1 * d_neurona1_d_p1\n",
        "        self.p2 -= tasa_aprendizaje * d_L_d_ypred * d_ypred_d_neurona1 * d_neurona1_d_p2\n",
        "        self.b1 -= tasa_aprendizaje * d_L_d_ypred * d_ypred_d_neurona1 * d_neurona1_d_b1\n",
        "        # Neurona2\n",
        "        self.p3 -= tasa_aprendizaje * d_L_d_ypred * d_ypred_d_neurona2 * d_neurona2_d_p3\n",
        "        self.p4 -= tasa_aprendizaje * d_L_d_ypred * d_ypred_d_neurona2 * d_neurona2_d_p4\n",
        "        self.b2 -= tasa_aprendizaje * d_L_d_ypred * d_ypred_d_neurona2 * d_neurona2_d_b2\n",
        "        # Neurona3\n",
        "        self.p5 -= tasa_aprendizaje * d_L_d_ypred * d_ypred_d_p5\n",
        "        self.p6 -= tasa_aprendizaje * d_L_d_ypred * d_ypred_d_p6\n",
        "        self.b3 -= tasa_aprendizaje * d_L_d_ypred * d_ypred_d_b3\n",
        "      # perdida por cada epoca\n",
        "      if epoca % 10 == 0:\n",
        "        y_preds = np.apply_along_axis(self.retroalimentacion, 1, data)\n",
        "        perdida = mse_perdida(y_trues, y_preds)\n",
        "        print(\"epoca %d perdida: %.3f\" % (epoca, perdida))"
      ],
      "metadata": {
        "id": "UMXoghy9ZYIY"
      },
      "execution_count": null,
      "outputs": []
    },
    {
      "cell_type": "code",
      "source": [
        "# Entrenar\n",
        "from sklearn import datasets\n",
        "iris = datasets.load_iris()\n",
        "X = iris.data[:, :2]  # we only take the first two features.\n",
        "y = iris.target\n",
        "data = X\n",
        "y_trues = y\n",
        "mired = redNeuronal()\n",
        "mired.train(data, y_trues)"
      ],
      "metadata": {
        "colab": {
          "base_uri": "https://localhost:8080/"
        },
        "id": "0pcLLNBh1c1j",
        "outputId": "198d3e6f-51f0-4c51-846f-328edbe2c828"
      },
      "execution_count": null,
      "outputs": [
        {
          "output_type": "stream",
          "name": "stdout",
          "text": [
            "epoca 0 perdida: 0.667\n",
            "epoca 10 perdida: 0.667\n",
            "epoca 20 perdida: 0.667\n",
            "epoca 30 perdida: 0.667\n",
            "epoca 40 perdida: 0.667\n",
            "epoca 50 perdida: 0.667\n",
            "epoca 60 perdida: 0.667\n",
            "epoca 70 perdida: 0.667\n",
            "epoca 80 perdida: 0.667\n",
            "epoca 90 perdida: 0.667\n",
            "epoca 100 perdida: 0.667\n",
            "epoca 110 perdida: 0.667\n",
            "epoca 120 perdida: 0.667\n",
            "epoca 130 perdida: 0.667\n",
            "epoca 140 perdida: 0.667\n",
            "epoca 150 perdida: 0.667\n",
            "epoca 160 perdida: 0.667\n",
            "epoca 170 perdida: 0.667\n",
            "epoca 180 perdida: 0.667\n",
            "epoca 190 perdida: 0.667\n",
            "epoca 200 perdida: 0.667\n",
            "epoca 210 perdida: 0.667\n",
            "epoca 220 perdida: 0.667\n",
            "epoca 230 perdida: 0.667\n",
            "epoca 240 perdida: 0.667\n",
            "epoca 250 perdida: 0.667\n",
            "epoca 260 perdida: 0.667\n",
            "epoca 270 perdida: 0.667\n",
            "epoca 280 perdida: 0.667\n",
            "epoca 290 perdida: 0.667\n",
            "epoca 300 perdida: 0.667\n",
            "epoca 310 perdida: 0.667\n",
            "epoca 320 perdida: 0.667\n",
            "epoca 330 perdida: 0.667\n",
            "epoca 340 perdida: 0.667\n",
            "epoca 350 perdida: 0.667\n",
            "epoca 360 perdida: 0.667\n",
            "epoca 370 perdida: 0.667\n",
            "epoca 380 perdida: 0.667\n",
            "epoca 390 perdida: 0.667\n",
            "epoca 400 perdida: 0.667\n",
            "epoca 410 perdida: 0.667\n",
            "epoca 420 perdida: 0.667\n",
            "epoca 430 perdida: 0.667\n",
            "epoca 440 perdida: 0.667\n",
            "epoca 450 perdida: 0.667\n",
            "epoca 460 perdida: 0.667\n",
            "epoca 470 perdida: 0.667\n",
            "epoca 480 perdida: 0.667\n",
            "epoca 490 perdida: 0.667\n",
            "epoca 500 perdida: 0.667\n",
            "epoca 510 perdida: 0.667\n",
            "epoca 520 perdida: 0.667\n",
            "epoca 530 perdida: 0.667\n",
            "epoca 540 perdida: 0.667\n",
            "epoca 550 perdida: 0.667\n",
            "epoca 560 perdida: 0.667\n",
            "epoca 570 perdida: 0.667\n",
            "epoca 580 perdida: 0.667\n",
            "epoca 590 perdida: 0.667\n",
            "epoca 600 perdida: 0.667\n",
            "epoca 610 perdida: 0.667\n",
            "epoca 620 perdida: 0.667\n",
            "epoca 630 perdida: 0.667\n",
            "epoca 640 perdida: 0.667\n",
            "epoca 650 perdida: 0.667\n",
            "epoca 660 perdida: 0.667\n",
            "epoca 670 perdida: 0.667\n",
            "epoca 680 perdida: 0.667\n",
            "epoca 690 perdida: 0.667\n",
            "epoca 700 perdida: 0.667\n",
            "epoca 710 perdida: 0.667\n",
            "epoca 720 perdida: 0.668\n",
            "epoca 730 perdida: 0.668\n",
            "epoca 740 perdida: 0.668\n",
            "epoca 750 perdida: 0.668\n",
            "epoca 760 perdida: 0.668\n",
            "epoca 770 perdida: 0.668\n",
            "epoca 780 perdida: 0.668\n",
            "epoca 790 perdida: 0.668\n",
            "epoca 800 perdida: 0.668\n",
            "epoca 810 perdida: 0.668\n",
            "epoca 820 perdida: 0.668\n",
            "epoca 830 perdida: 0.668\n",
            "epoca 840 perdida: 0.668\n",
            "epoca 850 perdida: 0.668\n",
            "epoca 860 perdida: 0.668\n",
            "epoca 870 perdida: 0.668\n",
            "epoca 880 perdida: 0.668\n",
            "epoca 890 perdida: 0.668\n",
            "epoca 900 perdida: 0.668\n",
            "epoca 910 perdida: 0.668\n",
            "epoca 920 perdida: 0.668\n",
            "epoca 930 perdida: 0.668\n",
            "epoca 940 perdida: 0.668\n",
            "epoca 950 perdida: 0.668\n",
            "epoca 960 perdida: 0.668\n",
            "epoca 970 perdida: 0.668\n",
            "epoca 980 perdida: 0.668\n",
            "epoca 990 perdida: 0.668\n"
          ]
        }
      ]
    },
    {
      "cell_type": "code",
      "source": [
        "# Predecir\n",
        "data1 = np.array([4, 0.4])\n",
        "print(\"data1: %.3f\" % mired.retroalimentacion(data1))"
      ],
      "metadata": {
        "colab": {
          "base_uri": "https://localhost:8080/"
        },
        "id": "9_0Edg083PDv",
        "outputId": "23d1c00b-6eff-4a78-c4c7-bb85056972e1"
      },
      "execution_count": null,
      "outputs": [
        {
          "output_type": "stream",
          "name": "stdout",
          "text": [
            "data1: 0.947\n"
          ]
        }
      ]
    },
    {
      "cell_type": "code",
      "source": [],
      "metadata": {
        "id": "iH1V5gEp3q9B"
      },
      "execution_count": null,
      "outputs": []
    }
  ]
}